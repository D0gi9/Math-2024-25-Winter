{
  "nbformat": 4,
  "nbformat_minor": 0,
  "metadata": {
    "colab": {
      "provenance": [],
      "authorship_tag": "ABX9TyPMBzMbDhE5wGASlyeSxxei",
      "include_colab_link": true
    },
    "kernelspec": {
      "name": "python3",
      "display_name": "Python 3"
    },
    "language_info": {
      "name": "python"
    }
  },
  "cells": [
    {
      "cell_type": "markdown",
      "metadata": {
        "id": "view-in-github",
        "colab_type": "text"
      },
      "source": [
        "<a href=\"https://colab.research.google.com/github/D0gi9/Math-2024-25-Winter/blob/main/Limits_of_Real_Functions.ipynb\" target=\"_parent\"><img src=\"https://colab.research.google.com/assets/colab-badge.svg\" alt=\"Open In Colab\"/></a>"
      ]
    },
    {
      "cell_type": "markdown",
      "source": [
        "Compute:\n",
        "\n",
        "$\\lim_{x \\to \\infty} \\frac{x^3 + 2x^2}{x^4 - 3x^3}$\n",
        "\n",
        "\n",
        "Factor out the highest power of $x$ in the denominator\n",
        "\n",
        "$\\frac{x^3 + 2x^2}{x^4 - 3x^3}$ = $\\frac{\\frac{x^3}{x^4} + \\frac{2x^2}{x^4}}{\\frac{x^4}{x^4} - \\frac{3x^3}{x^4}}$ = $\\frac{\\frac{1}{x} + \\frac{2}{x^2}}{1 - \\frac{3}{x}}$\n",
        "\n",
        "\n",
        "Simplify as $x→∞$\n",
        "\n",
        "$\\frac{\\frac{1}{x} + \\frac{2}{x^2}}{1 - \\frac{3}{x}} \\to$ $\\frac{0 + 0}{1 - 0}$ = 0\n",
        "\n",
        "**Final Answer:**\n",
        "\n",
        "\n",
        "$\\lim_{x \\to \\infty} \\frac{x^3 + 2x^2}{x^4 - 3x^3} = 0$"
      ],
      "metadata": {
        "id": "jWkXKpNAZ6Dy"
      }
    },
    {
      "cell_type": "markdown",
      "source": [
        "**Find:**\n",
        "\n",
        "$\\lim_{x \\to 0} \\frac{\\sin(3x)}{2x + 1}$\n",
        "\n",
        "\n",
        "Analyze the function\n",
        "\n",
        "As $x→0$\n",
        "\n",
        "$sin(3x)→0$\n",
        "\n",
        "$2x+1→1$\n",
        "\n",
        "\n",
        "Use the approximation of $sin(3x)$\n",
        "\n",
        "For small values of $x,sin(3x)≈3x$. Substituting this approximation\n",
        "\n",
        "$\\frac{\\sin(3x)}{2x + 1} \\approx \\frac{3x}{2x + 1}$\n",
        "\n",
        "As $x→0$, the term $2x+1→1$ Therefore\n",
        "\n",
        "$\\lim_{x \\to 0} \\frac{\\sin(3x)}{2x + 1}$ = $\\frac{\\sin(0)}{1}$ = 0\n",
        "\n",
        "**Final Answer**\n",
        "\n",
        "\n",
        "$\\lim_{x \\to 0} \\lim_{x \\to 0} \\frac{\\sin(3x)}{2x + 1}$\n",
        "\n",
        "\n",
        "\n",
        "\n",
        "\n",
        "\n",
        "\n",
        "\n",
        "\n"
      ],
      "metadata": {
        "id": "2QkZU1NTfzWc"
      }
    },
    {
      "cell_type": "markdown",
      "source": [
        "Find the asymptotes of the function:\n",
        "\n",
        "$f(x) = \\frac{x^2 - 1}{x^2 + 1}$\n",
        "\n",
        "Since $x^2$+1>0 for all real $x$ the denominator never equals zero. Therefore, there are no vertical asymptotes.\n",
        "\n",
        "Horizontal Asymptotes\n",
        "\n",
        "\n",
        "$\\lim_{x \\to \\infty} \\frac{x^2 - 1}{x^2 + 1}$  ,  $\\lim_{x \\to -\\infty} \\frac{x^2 - 1}{x^2 + 1}$\n",
        "\n",
        "\n",
        "Factor $x^2$ out of both the numerator and denominator\n",
        "\n",
        "\n",
        "f(x) = $\\frac{x^2(1 - \\frac{1}{x^2})}{x^2(1 + \\frac{1}{x^2})}$ = $\\frac{1 - \\frac{1}{x^2}}{1 + \\frac{1}{x^2}}$\n",
        "\n",
        "\n",
        "As $x→∞$ or $x→-∞$, the terms $\\frac{1}{x^2}$ $→$ 0 thus\n",
        "\n",
        "\n",
        "$\\lim_{x \\to \\infty} f(x) = \\frac{1 - 0}{1 + 0} = 1$    ,  $\\lim_{x \\to -\\infty} f(x) = \\frac{1 - 0}{1 + 0} = 1$\n",
        "\n",
        "\n",
        "So, the function has a horizontal asymptote at:\n",
        "\n",
        "\n",
        "$y=1$\n",
        "\n",
        "\n",
        "**Final Answer:**\n",
        "\n",
        "\n",
        "**Vertical Asymptotes**: None\n",
        "\n",
        "**Horizontal Asymptote**: y=1.\n",
        "\n",
        "**Oblique Asymptotes**: None."
      ],
      "metadata": {
        "id": "OKAXh90voTQN"
      }
    },
    {
      "cell_type": "markdown",
      "source": [
        "Find the asymptotes of the function\n",
        "\n",
        "\n",
        "$g(x) = \\frac{\\sin(x)}{x^2 + 1}$\n",
        "\n",
        "\n",
        "Vertical Asymptotes\n",
        "\n",
        "Since $x^2$+1>0 for all real $x$, the denominator never equals zero. Therefore, there are no vertical asymptotes.\n",
        "\n",
        "\n",
        "Horizontal Asymptotes\n",
        "\n",
        "$\\lim_{x \\to \\infty} g(x)=0$    ,     $\\lim_{x \\to -\\infty} g(x)=0$\n",
        "\n",
        "The function has a horizontal asymptote at:  $y=0$\n",
        "\n",
        "\n",
        "**Final Answer:**\n",
        "**Vertical Asymptotes:** None.\n",
        "\n",
        "\n",
        "**Horizontal Asymptote:** y=0.\n",
        "\n",
        "\n",
        "**Oblique Asymptotes:** None.\n",
        "\n",
        "\n",
        "\n"
      ],
      "metadata": {
        "id": "mxqGNj6gsRjq"
      }
    }
  ]
}