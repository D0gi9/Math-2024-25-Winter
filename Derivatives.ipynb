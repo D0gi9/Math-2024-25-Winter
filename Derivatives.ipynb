{
  "nbformat": 4,
  "nbformat_minor": 0,
  "metadata": {
    "colab": {
      "provenance": [],
      "authorship_tag": "ABX9TyNZtdA2JCkyZNEj7S4lg5IA",
      "include_colab_link": true
    },
    "kernelspec": {
      "name": "python3",
      "display_name": "Python 3"
    },
    "language_info": {
      "name": "python"
    }
  },
  "cells": [
    {
      "cell_type": "markdown",
      "metadata": {
        "id": "view-in-github",
        "colab_type": "text"
      },
      "source": [
        "<a href=\"https://colab.research.google.com/github/D0gi9/Math-2024-25-Winter/blob/main/Derivatives.ipynb\" target=\"_parent\"><img src=\"https://colab.research.google.com/assets/colab-badge.svg\" alt=\"Open In Colab\"/></a>"
      ]
    },
    {
      "cell_type": "markdown",
      "source": [
        "# **Compute derivatives of functions:**\n",
        "\n"
      ],
      "metadata": {
        "id": "JKlGenKPRJNy"
      }
    },
    {
      "cell_type": "markdown",
      "source": [
        "$y(x)=−3x+3$\n",
        "\n",
        "Using the power rule\n",
        "$\\frac{d}{dx} [ax^n] = n \\cdot a \\cdot x^{n-1}$ the derivative is:\n",
        "\n",
        "\n",
        "\n",
        "$\\frac{dy}{dx} = -3$"
      ],
      "metadata": {
        "id": "GdmOK29BROqv"
      }
    },
    {
      "cell_type": "markdown",
      "source": [
        "$y(x)=πx+sin(1)$\n",
        "\n",
        "\n",
        "The derivative of\n",
        "$πx$ is $π$, since $π$ is a constant.\n",
        "\n",
        "The derivative of sin(1) is 0, because sin(1) is a constant\n",
        "\n",
        "\n",
        "$\\frac{dy}{dx} = π$"
      ],
      "metadata": {
        "id": "RAJoqu6JSDod"
      }
    },
    {
      "cell_type": "markdown",
      "source": [
        "$y(x)=4+sin(2)$\n",
        "\n",
        "The derivative of the constant 4 is 0.\n",
        "\n",
        "The derivative of sin(2) is also 0, since sin(2) is a constant\n",
        "\n",
        "$\\frac{dy}{dx} = 0 $\n",
        "\n",
        "\n"
      ],
      "metadata": {
        "id": "ZeLhOD9FTA_2"
      }
    },
    {
      "cell_type": "markdown",
      "source": [
        "\n",
        "$y(x) = 2x^3 - 3x^2 + 8x - 9$\n",
        "\n",
        "\n",
        "\n",
        "The derivative of $2x^3$ is $6x^2$ (since $\\frac{d}{dx}(x^n) = n \\cdot x^{n-1}$, and here $n=3$)\n",
        "\n",
        "\n",
        "The derivative of $-3x^2$ is $-6x$ (since $\\frac{d}{dx}(x^n) = n \\cdot x^{n-1}$, and here $n=2$).\n",
        "\n",
        "\n",
        "The derivative of $8x$ is $8$ (since $\\frac{d}{dx}(x) = 1$).\n",
        "\n",
        "The derivative of the constant −9 is 0.Thus, the derivative is:\n",
        "\n",
        "\n",
        "\n",
        "$\\frac{dy}{dx} = 6x^2 - 6x + 8$"
      ],
      "metadata": {
        "id": "Qys-GtgnTgwy"
      }
    },
    {
      "cell_type": "markdown",
      "source": [
        "\n",
        "$y(x) = 6x^{1/3}$\n",
        "\n",
        "\n",
        "The derivative of $6x^{1/3}$ is:\n",
        "\n",
        "\n",
        "$\\frac{d}{dx}(6x^{1/3}) = 6 \\cdot \\frac{1}{3} \\cdot x^{1/3 - 1} = 2x^{-2/3}$\n",
        "\n",
        "\n",
        "Thus, the derivative is:\n",
        "\n",
        "$\\frac{dy}{dx} = 2x^{-2/3}$\n",
        "\n",
        "Or equivalently:\n",
        "\n",
        "$\\frac{dy}{dx} = \\frac{2}{x^{2/3}}$"
      ],
      "metadata": {
        "id": "JvHBSd_XUSDF"
      }
    },
    {
      "cell_type": "markdown",
      "source": [
        "\n",
        "$y(x) = \\sqrt{x}$\n",
        "\n",
        "\n",
        "$y(x) = \\sqrt{x}$ = $x^{1/2}$\n",
        "\n",
        "\n",
        "Now, we apply the power rule for derivatives, which states:\n",
        "\n",
        "$\\frac{d}{dx}(x^n) = n \\cdot x^{n-1}$\n",
        "\n",
        "\n",
        "Here, $n = \\frac{1}{2}$, so the derivative of $x^{1/2}$ is:\n",
        "\n",
        "$\\frac{d}{dx}(x^{1/2}) = \\frac{1}{2} \\cdot x^{1/2 - 1} = \\frac{1}{2} \\cdot x^{-1/2}$\n",
        "\n",
        "Thus, the derivative is:\n",
        "\n",
        "\n",
        "$\\frac{dy}{dx} = \\frac{1}{2\\sqrt{x}}$\n",
        "\n"
      ],
      "metadata": {
        "id": "mBH6x7H7U38e"
      }
    },
    {
      "cell_type": "markdown",
      "source": [
        "$xy(x)=cos(x)+sin(x)$\n",
        "\n",
        "\n",
        "$y(x)+x⋅y ′(x)$\n",
        "\n",
        "\n",
        "\n",
        "$\\frac{d}{dx}(\\cos(x) + \\sin(x)) = -\\sin(x) + \\cos(x)$\n",
        "\n",
        "set up the equation after differentiating both sides:\n",
        "\n",
        "$y(x)+x⋅y ′(x)=−sin(x)+cos(x)\n",
        "\n",
        "$Solve for y ′(x):$\n",
        "\n",
        "$x⋅y ′(x)=−sin(x)+cos(x)−y(x)$\n",
        "\n",
        "$y ′(x)= x −sin(x)+cos(x)−y(x)$\n",
        "\n",
        "\n",
        "$thus, the derivative of y(x) is:$\n",
        "\n",
        "\n",
        "\n",
        "$y'(x) = \\frac{- \\sin(x) + \\cos(x) - y(x)}{x}$\n"
      ],
      "metadata": {
        "id": "SiwsTTQgV6Yl"
      }
    }
  ]
}