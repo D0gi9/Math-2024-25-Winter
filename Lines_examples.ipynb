{
  "nbformat": 4,
  "nbformat_minor": 0,
  "metadata": {
    "colab": {
      "provenance": [],
      "authorship_tag": "ABX9TyOZ0wjgy0D6Wm9aPNfSCOyx",
      "include_colab_link": true
    },
    "kernelspec": {
      "name": "python3",
      "display_name": "Python 3"
    },
    "language_info": {
      "name": "python"
    }
  },
  "cells": [
    {
      "cell_type": "markdown",
      "metadata": {
        "id": "view-in-github",
        "colab_type": "text"
      },
      "source": [
        "<a href=\"https://colab.research.google.com/github/D0gi9/Math-2024-25-Winter/blob/main/Lines_examples.ipynb\" target=\"_parent\"><img src=\"https://colab.research.google.com/assets/colab-badge.svg\" alt=\"Open In Colab\"/></a>"
      ]
    },
    {
      "cell_type": "markdown",
      "source": [
        "1)We have two lines\n",
        "y\n",
        "=\n",
        "2\n",
        "x\n",
        "+\n",
        "3\n",
        "y=2x+3 and\n",
        "y\n",
        "=\n",
        "3\n",
        "x\n",
        "+\n",
        "2\n",
        "y=3x+2. Find the intersection point of these lines and calculate the angle between them."
      ],
      "metadata": {
        "id": "HAoy1P91_dul"
      }
    },
    {
      "cell_type": "code",
      "source": [
        "# Define the equations of the lines\n",
        "def line1(x):\n",
        "  return 2*x + 3\n",
        "\n",
        "def line2(x):\n",
        "  return 3*x + 2\n",
        "\n",
        "# Solve for x\n",
        "# 2x + 3 = 3x + 2\n",
        "# x = 1\n",
        "\n",
        "# Substitute x back into either equation to find y\n",
        "# y = 2(1) + 3 = 5\n",
        "# or\n",
        "# y = 3(1) + 2 = 5\n",
        "\n",
        "# The intersection point is (1, 5)\n",
        "intersection_point = (1, 5)\n",
        "print(f\"The intersection point is: {intersection_point}\")\n",
        "\n",
        "\n",
        "import numpy as np\n",
        "\n",
        "# The slopes of the lines are 2 and 3\n",
        "m1 = 2\n",
        "m2 = 3\n",
        "\n",
        "# Calculate the angle in radians\n",
        "angle_rad = np.arctan(abs((m2 - m1) / (1 + m1 * m2)))\n",
        "\n",
        "# Convert the angle to degrees\n",
        "angle_deg = np.degrees(angle_rad)\n",
        "\n",
        "print(f\"The angle between the lines is: {angle_deg:.2f} degrees\")\n",
        "\n",
        "\n"
      ],
      "metadata": {
        "colab": {
          "base_uri": "https://localhost:8080/"
        },
        "id": "RiK2k0Ku__U9",
        "outputId": "7b594d88-e156-49de-8daa-d82d011dced6"
      },
      "execution_count": null,
      "outputs": [
        {
          "output_type": "stream",
          "name": "stdout",
          "text": [
            "The intersection point is: (1, 5)\n",
            "The angle between the lines is: 8.13 degrees\n"
          ]
        }
      ]
    },
    {
      "cell_type": "markdown",
      "source": [
        "**Calculate the angle between the lines**\n",
        "\n",
        "angle = arctan(abs((m2 - m1) / (1 + m1 * m2)))\n"
      ],
      "metadata": {
        "id": "-TIS49-2ANgI"
      }
    },
    {
      "cell_type": "markdown",
      "source": [
        "2)**Write the equation of the line passing through point**\n",
        "A\n",
        "(\n",
        "1\n",
        ",\n",
        "2\n",
        ")\n",
        "A(1,2) and parallel to the vector\n",
        "v\n",
        "=\n",
        "[\n",
        "2\n",
        ",\n",
        "3\n",
        "]\n",
        "v=[2,3]."
      ],
      "metadata": {
        "id": "lA2Fe__5AXJ2"
      }
    },
    {
      "cell_type": "code",
      "source": [
        "# Point A\n",
        "x1, y1 = 1, 2\n",
        "\n",
        "# Direction vector\n",
        "v1, v2 = 2, 3\n",
        "\n",
        "# Parametric equations\n",
        "# x = x1 + v1*t  => t = (x - x1) / v1\n",
        "# y = y1 + v2*t\n",
        "\n",
        "# Substitute t into the second equation\n",
        "# y = y1 + v2 * (x - x1) / v1\n",
        "\n",
        "# Rearrange to get the equation in the form y = mx + c\n",
        "# y = (v2/v1) * x + (y1 - (v2/v1)*x1)\n",
        "\n",
        "# Calculate the slope and y-intercept\n",
        "m = v2 / v1  # Slope\n",
        "c = y1 - m * x1  # y-intercept\n",
        "\n",
        "print(f\"The equation of the line is: y = {m:.2f}x + {c:.2f}\")"
      ],
      "metadata": {
        "colab": {
          "base_uri": "https://localhost:8080/"
        },
        "id": "MYop9O2RAjsV",
        "outputId": "82509d58-72f2-463a-ca4f-dadeff90dc93"
      },
      "execution_count": null,
      "outputs": [
        {
          "output_type": "stream",
          "name": "stdout",
          "text": [
            "The equation of the line is: y = 1.50x + 0.50\n"
          ]
        }
      ]
    },
    {
      "cell_type": "markdown",
      "source": [
        "3)We have the line\n",
        "y\n",
        "=\n",
        "2\n",
        "x\n",
        "+\n",
        "3\n",
        "y=2x+3. Find an example of a line perpendicular and parallel to it."
      ],
      "metadata": {
        "id": "zg0g-sscAqls"
      }
    },
    {
      "cell_type": "code",
      "source": [
        "# Given line: y = 2x + 3\n",
        "original_slope = 2\n",
        "\n",
        "# Parallel line (same slope, different y-intercept)\n",
        "parallel_slope = original_slope\n",
        "parallel_y_intercept = 5  # Choose any different y-intercept\n",
        "parallel_line_equation = lambda x: parallel_slope * x + parallel_y_intercept\n",
        "\n",
        "# Perpendicular line (negative reciprocal slope, any y-intercept)\n",
        "perpendicular_slope = -1 / original_slope\n",
        "perpendicular_y_intercept = 1  # Choose any y-intercept\n",
        "perpendicular_line_equation = lambda x: perpendicular_slope * x + perpendicular_y_intercept"
      ],
      "metadata": {
        "id": "83u0_8i5OESS"
      },
      "execution_count": null,
      "outputs": []
    },
    {
      "cell_type": "code",
      "source": [
        "import matplotlib.pyplot as plt\n",
        "import numpy as np\n",
        "\n",
        "# Generate x values for the lines\n",
        "x = np.linspace(-5, 5, 100)\n",
        "\n",
        "# Calculate y values for each line\n",
        "original_line_y = 2 * x + 3\n",
        "parallel_line_y = parallel_line_equation(x)\n",
        "perpendicular_line_y = perpendicular_line_equation(x)\n",
        "\n",
        "# Plot the lines\n",
        "plt.plot(x, original_line_y, label='Original: y = 2x + 3')\n",
        "plt.plot(x, parallel_line_y, label='Parallel: y = 2x + 5')\n",
        "plt.plot(x, perpendicular_line_y, label='Perpendicular: y = -0.5x + 1')\n",
        "\n",
        "# Set plot labels and title\n",
        "plt.xlabel('x')\n",
        "plt.ylabel('y')\n",
        "plt.title('Parallel and Perpendicular Lines')\n",
        "\n",
        "# Add a legend\n",
        "plt.legend()\n",
        "\n",
        "# Display the plot\n",
        "plt.grid(True)\n",
        "plt.show()"
      ],
      "metadata": {
        "colab": {
          "base_uri": "https://localhost:8080/",
          "height": 472
        },
        "id": "eSLgISo-OJRX",
        "outputId": "d036024f-2fcc-4f03-f104-2d66ca538343"
      },
      "execution_count": null,
      "outputs": [
        {
          "output_type": "display_data",
          "data": {
            "text/plain": [
              "<Figure size 640x480 with 1 Axes>"
            ],
            "image/png": "[encoded data removed]"
          },
          "metadata": {}
        }
      ]
    },
    {
      "cell_type": "markdown",
      "source": [
        "r(t) = r₀ + tv\n",
        "\n",
        "\n",
        "where:\n",
        "\n",
        "\n",
        "r₀ is a point on the line (in this case,\n",
        "𝐴\n",
        "(\n",
        "1\n",
        ",\n",
        "2\n",
        ")\n",
        "A(1,2)),\n",
        "\n",
        "\n",
        "v is the direction vector (\n",
        "[\n",
        "2\n",
        ",\n",
        "3\n",
        "]\n",
        "[2,3]),\n",
        "\n",
        "\n",
        "t is the parameter.\n",
        "\n",
        "\n",
        "**Substituting the given values:**\n",
        "\n",
        "r(t)=[1,2]+t[2,3]\n",
        "\n",
        "\n",
        "**Writing the parametric equations**:\n",
        "\n",
        "x=1+2t,y=2+3t\n",
        "\n",
        "\n",
        "**Converting to the symmetric form**:\n",
        "\n",
        "\n",
        "**Eliminate\n",
        "𝑡 between the equations**:\n",
        "\n",
        "t = (x - 1) / 2\n",
        "\n",
        "t = (y - 2) / 3\n",
        "\n",
        "**Thus**:\n",
        "\n",
        "(x - 1) / 2 = (y - 2) / 3\n",
        "\n",
        "**Final equation of the line**:\n",
        "The symmetric form of the line is:\n",
        "\n",
        "\n",
        "(x - 1) / 2 = (y - 2) / 3\n",
        "\n",
        "\n",
        "\n",
        "\n",
        "\n",
        "\n"
      ],
      "metadata": {
        "id": "lsd3geVwBGRz"
      }
    },
    {
      "cell_type": "markdown",
      "source": [
        "4)We have the line\n",
        "y\n",
        "=\n",
        "2\n",
        "x\n",
        "+\n",
        "3\n",
        "y=2x+3 and point\n",
        "A\n",
        "(\n",
        "1\n",
        ",\n",
        "2\n",
        ")\n",
        "A(1,2). Find the distance from point\n",
        "A to the line.\n",
        "\n",
        "\n"
      ],
      "metadata": {
        "id": "65BCtHO0C_Lj"
      }
    },
    {
      "cell_type": "code",
      "source": [
        "import numpy as np\n",
        "\n",
        "# Coordinates of point A\n",
        "x1, y1 = 1, 2\n",
        "\n",
        "# Coefficients of the line equation (y = 2x + 3, rearranged to 2x - y + 3 = 0)\n",
        "a, b, c = 2, -1, 3\n",
        "\n",
        "# Calculate the distance\n",
        "distance = abs(a * x1 + b * y1 + c) / np.sqrt(a**2 + b**2)\n",
        "\n",
        "print(f\"The distance from point A to the line is: {distance:.2f}\")"
      ],
      "metadata": {
        "colab": {
          "base_uri": "https://localhost:8080/"
        },
        "id": "23vnyfunNhaN",
        "outputId": "4fa78033-20ec-4f08-de80-36adb9e2441a"
      },
      "execution_count": null,
      "outputs": [
        {
          "output_type": "stream",
          "name": "stdout",
          "text": [
            "The distance from point A to the line is: 1.34\n"
          ]
        }
      ]
    },
    {
      "cell_type": "code",
      "source": [
        "import matplotlib.pyplot as plt\n",
        "\n",
        "# Create x values for the line\n",
        "x = np.linspace(-2, 2, 100)\n",
        "\n",
        "# Calculate y values for the line using the equation y = 2x + 3\n",
        "y = 2 * x + 3\n",
        "\n",
        "# Plot the line\n",
        "plt.plot(x, y, label='y = 2x + 3')\n",
        "\n",
        "# Plot point A\n",
        "plt.plot(x1, y1, 'ro', label='Point A (1, 2)')\n",
        "\n",
        "# Calculate the coordinates of the point on the line closest to A\n",
        "x_closest = (b * (b * x1 - a * y1) - a * c) / (a**2 + b**2)\n",
        "y_closest = (a * (-b * x1 + a * y1) - b * c) / (a**2 + b**2)\n",
        "\n",
        "# Plot the perpendicular line\n",
        "plt.plot([x1, x_closest], [y1, y_closest], 'k--', label='Perpendicular Distance')\n",
        "\n",
        "# Set plot labels and title\n",
        "plt.xlabel('x')\n",
        "plt.ylabel('y')\n",
        "plt.title('Distance from Point A to the Line')\n",
        "\n",
        "# Add a legend\n",
        "plt.legend()\n",
        "\n",
        "# Display the plot\n",
        "plt.grid(True)\n",
        "plt.show()"
      ],
      "metadata": {
        "colab": {
          "base_uri": "https://localhost:8080/",
          "height": 472
        },
        "id": "KTWoGToMNkM2",
        "outputId": "b16335f5-9151-4824-8b73-e00feb73d795"
      },
      "execution_count": null,
      "outputs": [
        {
          "output_type": "display_data",
          "data": {
            "text/plain": [
              "<Figure size 640x480 with 1 Axes>"
            ],
            "image/png": "[encoded data removed]"
          },
          "metadata": {}
        }
      ]
    },
    {
      "cell_type": "markdown",
      "source": [
        "\n",
        "𝑦\n",
        "=\n",
        "2\n",
        "𝑥\n",
        "+\n",
        "3\n",
        "y=2x+3\n",
        "Rewriting it in standard form:\n",
        "\n",
        "\n",
        "\n",
        "\n",
        "\n",
        "2\n",
        "𝑥\n",
        "−\n",
        "𝑦\n",
        "+\n",
        "3\n",
        "=\n",
        "0\n",
        "2x−y+3=0\n",
        "\n",
        "\n",
        "\n",
        "Here,\n",
        "𝑎\n",
        "=\n",
        "2\n",
        "a=2,\n",
        "𝑏\n",
        "=\n",
        "−\n",
        "1\n",
        "b=−1, and\n",
        "𝑐\n",
        "=\n",
        "3\n",
        "c=3.\n",
        "\n",
        "\n",
        "\n",
        "\n",
        "**Step 2: Use the point-to-line distance formula\n",
        "The distance**\n",
        "𝑑\n",
        " from a point\n",
        "\n",
        "\n",
        "(\n",
        "𝑥\n",
        "1\n",
        ",\n",
        "𝑦\n",
        "1\n",
        ")\n",
        "(x\n",
        "1\n",
        "​\n",
        " ,y\n",
        "1\n",
        "​\n",
        " ) to the line\n",
        "𝑎\n",
        "𝑥\n",
        "+\n",
        "𝑏\n",
        "𝑦\n",
        "+\n",
        "𝑐\n",
        "=\n",
        "0\n",
        "ax+by+c=0 is given by:\n",
        "\n",
        "\n",
        "d = |ax₁ + by₁ + c| / √(a² + b²)\n",
        "\n",
        "\n",
        "Substituting\n",
        "(\n",
        "𝑥\n",
        "1\n",
        ",\n",
        "𝑦\n",
        "1\n",
        ")\n",
        "=\n",
        "(\n",
        "1\n",
        ",\n",
        "2\n",
        ")\n",
        "(x\n",
        "1\n",
        "​\n",
        " ,y\n",
        "1\n",
        "​\n",
        " )=(1,2),\n",
        "𝑎\n",
        "=\n",
        "2\n",
        ",\n",
        "𝑏\n",
        "=\n",
        "−\n",
        "1\n",
        ", and\n",
        "𝑐\n",
        "=\n",
        "3\n",
        "\n",
        "\n",
        "\n",
        "d = |2(1) - 1(2) + 3| / √(2² + (-1)²)\n",
        "\n",
        "\n",
        "**Step 3: Simplify the numerator**\n",
        "\n",
        "\n",
        "\n",
        "2\n",
        "(\n",
        "1\n",
        ")\n",
        "−\n",
        "1\n",
        "(\n",
        "2\n",
        ")\n",
        "+\n",
        "3\n",
        "=\n",
        "2\n",
        "−\n",
        "2\n",
        "+\n",
        "3\n",
        "=\n",
        "3\n",
        "2(1)−1(2)+3=2−2+3=3\n",
        "\n",
        "\n",
        "**So the numerator is:**\n",
        "\n",
        "∣\n",
        "2\n",
        "(\n",
        "1\n",
        ")\n",
        "−\n",
        "1\n",
        "(\n",
        "2\n",
        ")\n",
        "+\n",
        "3\n",
        "∣\n",
        "=\n",
        "∣\n",
        "3\n",
        "∣\n",
        "=\n",
        "3\n",
        "∣2(1)−1(2)+3∣=∣3∣=3\n",
        "\n",
        "\n",
        "**Step 4: Simplify the denominator**\n",
        "\n",
        "\n",
        "√(2² + (-1)²) = √(4 + 1) = √5\n",
        "\n",
        "\n",
        "**Step 5: Calculate the distance**\n",
        "\n",
        "\n",
        "d = 3 / √5\n",
        "\n",
        "\n",
        "**Final Answer:\n",
        "The distance from**\n",
        "\n",
        "\n",
        "𝐴\n",
        "(\n",
        "1\n",
        ",\n",
        "2\n",
        ")\n",
        "A(1,2) to the line\n",
        "𝑦\n",
        "=\n",
        "2\n",
        "𝑥\n",
        "+\n",
        "3\n",
        "y=2x+3 is:\n",
        "\n",
        "\n",
        "\n",
        "d = (3√5) / 5\n",
        "\n",
        "\n",
        "\n",
        "\n"
      ],
      "metadata": {
        "id": "mTNKZI2sD3BG"
      }
    },
    {
      "cell_type": "markdown",
      "source": [
        "5)The line intersects the coordinate axes at points\n",
        "A\n",
        "(\n",
        "2\n",
        ",\n",
        "0\n",
        ")\n",
        "A(2,0) and\n",
        "B\n",
        "(\n",
        "0\n",
        ",\n",
        "3\n",
        ")\n",
        "B(0,3). Find the equation of the line.\n",
        "\n",
        "\n",
        "The slope\n",
        "𝑚 of the line passing through two points\n",
        "𝐴\n",
        "(\n",
        "𝑥\n",
        "1\n",
        ",\n",
        "𝑦\n",
        "1\n",
        ")\n",
        " and\n",
        "𝐵\n",
        "(\n",
        "𝑥\n",
        "2\n",
        ",\n",
        "𝑦\n",
        "2\n",
        ")  is given by:\n",
        "\n",
        "\n",
        "m = (y₂ - y₁) / (x₂ - x₁)\n",
        "\n",
        "\n",
        "Substitute\n",
        "𝐴\n",
        "(\n",
        "2\n",
        ",\n",
        "0\n",
        ")\n",
        " and\n",
        "𝐵\n",
        "(\n",
        "0\n",
        ",\n",
        "3\n",
        ")\n",
        ":\n",
        "\n",
        "\n"
      ],
      "metadata": {
        "id": "zrbeaEh9IINU"
      }
    },
    {
      "cell_type": "code",
      "source": [
        "# Coordinates of points A and B\n",
        "x1, y1 = 2, 0\n",
        "x2, y2 = 0, 3\n",
        "\n",
        "# Calculate the slope (m)\n",
        "m = (y2 - y1) / (x2 - x1)\n",
        "\n",
        "# Calculate the y-intercept (c) using point A\n",
        "c = y1 - m * x1\n",
        "\n",
        "# Print the equation in the form y = mx + c\n",
        "print(f\"The equation of the line is: y = {m:.2f}x + {c:.2f}\")"
      ],
      "metadata": {
        "colab": {
          "base_uri": "https://localhost:8080/"
        },
        "id": "pYWPB69oO-d0",
        "outputId": "72fe1c16-ffd3-4d05-bec5-d7fa40c92344"
      },
      "execution_count": null,
      "outputs": [
        {
          "output_type": "stream",
          "name": "stdout",
          "text": [
            "The equation of the line is: y = -1.50x + 3.00\n"
          ]
        }
      ]
    },
    {
      "cell_type": "code",
      "source": [
        "import matplotlib.pyplot as plt\n",
        "import numpy as np\n",
        "\n",
        "# Generate x values for the line\n",
        "x = np.linspace(-1, 3, 100)  # Adjust range as needed\n",
        "\n",
        "# Calculate y values using the equation\n",
        "y = m * x + c\n",
        "\n",
        "# Plot the line\n",
        "plt.plot(x, y, label=f'y = {m:.2f}x + {c:.2f}')\n",
        "\n",
        "# Plot points A and B\n",
        "plt.plot(x1, y1, 'ro', label='A (2, 0)')\n",
        "plt.plot(x2, y2, 'bo', label='B (0, 3)')\n",
        "\n",
        "# Set plot labels and title\n",
        "plt.xlabel('x')\n",
        "plt.ylabel('y')\n",
        "plt.title('Line Intersecting Coordinate Axes')\n",
        "\n",
        "# Add a legend\n",
        "plt.legend()\n",
        "\n",
        "# Display the plot\n",
        "plt.grid(True)\n",
        "plt.show()"
      ],
      "metadata": {
        "colab": {
          "base_uri": "https://localhost:8080/",
          "height": 472
        },
        "id": "EhigTyE1PDTu",
        "outputId": "d044b17e-a0c3-4409-b6bc-8abb81e9d22e"
      },
      "execution_count": null,
      "outputs": [
        {
          "output_type": "display_data",
          "data": {
            "text/plain": [
              "<Figure size 640x480 with 1 Axes>"
            ],
            "image/png": "[encoded data removed]"
          },
          "metadata": {}
        }
      ]
    },
    {
      "cell_type": "markdown",
      "source": [
        "6)Calculate the angle between the line\n",
        "y\n",
        "=\n",
        "x\n",
        "+\n",
        "3\n",
        "y=x+3 and the\n",
        "Ox axis."
      ],
      "metadata": {
        "id": "Z4P505DDQa_H"
      }
    },
    {
      "cell_type": "code",
      "source": [
        "import numpy as np\n",
        "\n",
        "# Slope of the line y = x + 3\n",
        "slope = 1\n",
        "\n",
        "# Calculate the angle in radians\n",
        "angle_rad = np.arctan(slope)\n",
        "\n",
        "# Convert to degrees\n",
        "angle_deg = np.degrees(angle_rad)\n",
        "\n",
        "print(f\"The angle between the line and the x-axis is: {angle_deg:.2f} degrees\")"
      ],
      "metadata": {
        "colab": {
          "base_uri": "https://localhost:8080/"
        },
        "id": "U05LHjeoQgxd",
        "outputId": "ddb18118-6e3d-46a5-e922-2ae63eef21aa"
      },
      "execution_count": null,
      "outputs": [
        {
          "output_type": "stream",
          "name": "stdout",
          "text": [
            "The angle between the line and the x-axis is: 45.00 degrees\n"
          ]
        }
      ]
    },
    {
      "cell_type": "code",
      "source": [
        "import matplotlib.pyplot as plt\n",
        "import numpy as np\n",
        "\n",
        "# Generate x values for the line\n",
        "x = np.linspace(-5, 5, 100)\n",
        "\n",
        "# Calculate y values for the line\n",
        "y = x + 3\n",
        "\n",
        "# Plot the line\n",
        "plt.plot(x, y, label='y = x + 3')\n",
        "\n",
        "# Plot the x-axis\n",
        "plt.axhline(0, color='black',linewidth=0.5)\n",
        "\n",
        "# Add an arrow to indicate the angle\n",
        "plt.arrow(0, 0, 2, 2, head_width=0.2, head_length=0.3, fc='black', ec='black')\n",
        "\n",
        "# Annotate the angle\n",
        "plt.text(1, 0.5, f'{angle_deg:.2f}°', fontsize=12)\n",
        "\n",
        "# Set plot labels and title\n",
        "plt.xlabel('x')\n",
        "plt.ylabel('y')\n",
        "plt.title('Angle between Line and x-axis')\n",
        "\n",
        "# Add a legend\n",
        "plt.legend()\n",
        "\n",
        "# Display the plot\n",
        "plt.grid(True)\n",
        "plt.show()"
      ],
      "metadata": {
        "colab": {
          "base_uri": "https://localhost:8080/",
          "height": 472
        },
        "id": "8zY7gNiwQsps",
        "outputId": "2cb183cd-6b36-4e90-807e-4dcb471a53b4"
      },
      "execution_count": null,
      "outputs": [
        {
          "output_type": "display_data",
          "data": {
            "text/plain": [
              "<Figure size 640x480 with 1 Axes>"
            ],
            "image/png": "[encoded data removed]"
          },
          "metadata": {}
        }
      ]
    }
  ]
}